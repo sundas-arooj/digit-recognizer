{
  "cells": [
    {
      "cell_type": "code",
      "execution_count": null,
      "metadata": {
        "id": "mvT2ash6EtBZ"
      },
      "outputs": [],
      "source": [
        "import tensorflow as tf\n",
        "import matplotlib.pyplot as plt"
      ]
    },
    {
      "cell_type": "code",
      "execution_count": null,
      "metadata": {
        "colab": {
          "base_uri": "https://localhost:8080/"
        },
        "id": "sJKnjmznGG2O",
        "outputId": "4420f488-78b3-4ac1-d4f2-55b6cc8e8f0a"
      },
      "outputs": [],
      "source": [
        "# Load the data and split tarining and testing data\n",
        "(train_data, train_labels), (test_data, test_labels) = tf.keras.datasets.mnist.load_data()"
      ]
    },
    {
      "cell_type": "code",
      "execution_count": null,
      "metadata": {
        "id": "mLz0S-eZHGYt"
      },
      "outputs": [],
      "source": [
        "# scale down the pixel vales from 0-255 to 0-1\n",
        "train_data = train_data / 255\n",
        "test_data = test_data / 255"
      ]
    },
    {
      "cell_type": "code",
      "execution_count": null,
      "metadata": {
        "colab": {
          "base_uri": "https://localhost:8080/",
          "height": 482
        },
        "id": "zffs0bxJHZPp",
        "outputId": "5ad393b8-02e6-4063-ac82-c50224572554"
      },
      "outputs": [],
      "source": [
        "print(train_data.shape)\n",
        "print(test_data.shape)\n",
        "print(train_labels)\n",
        "\n",
        "plt.imshow(train_data[7], cmap='gray')\n",
        "plt.show()"
      ]
    },
    {
      "cell_type": "code",
      "execution_count": null,
      "metadata": {
        "colab": {
          "base_uri": "https://localhost:8080/"
        },
        "id": "xCqxxvL5Iwsu",
        "outputId": "36691f7d-54d5-4c64-b741-1ee913b681bb"
      },
      "outputs": [],
      "source": [
        "# Add Neural Network layers to the Model\n",
        "model = tf.keras.models.Sequential()\n",
        "model.add(tf.keras.layers.Flatten(input_shape=(28,28)))\n",
        "model.add(tf.keras.layers.Dense(128, activation=\"relu\"))\n",
        "model.add(tf.keras.layers.Dense(10, activation=\"softmax\"))\n",
        "\n",
        "# Compile the Model\n",
        "model.compile(optimizer=\"adam\", loss=\"sparse_categorical_crossentropy\", metrics=[\"accuracy\"])\n",
        "\n",
        "# Train the model\n",
        "model.fit(train_data, train_labels, epochs=3)\n"
      ]
    },
    {
      "cell_type": "code",
      "execution_count": null,
      "metadata": {
        "colab": {
          "base_uri": "https://localhost:8080/"
        },
        "id": "SAV7HGxkLJmY",
        "outputId": "dde6de43-fabe-4129-facf-4cd5bb8642d0"
      },
      "outputs": [],
      "source": [
        "# Evaluate the accuracy and loss of the Model\n",
        "loss, acc = model.evaluate(test_data, test_labels)"
      ]
    },
    {
      "cell_type": "code",
      "execution_count": null,
      "metadata": {
        "id": "OcpHbAxlL20x"
      },
      "outputs": [],
      "source": [
        "# Save the model\n",
        "model.save(\"recognize_digit_model\")"
      ]
    },
    {
      "cell_type": "code",
      "execution_count": null,
      "metadata": {
        "id": "Rh2nZkiuMYIv"
      },
      "outputs": [],
      "source": [
        "# Load the model\n",
        "loaded_model = tf.keras.models.load_model(\"recognize_digit_model\")"
      ]
    },
    {
      "cell_type": "code",
      "execution_count": null,
      "metadata": {
        "colab": {
          "base_uri": "https://localhost:8080/"
        },
        "id": "9F5aEDJjMxpH",
        "outputId": "cbaded83-b16b-4b70-d1db-31006d764dd0"
      },
      "outputs": [],
      "source": [
        "# Evaluate the accuracy and loss of the Model\n",
        "loss, acc = loaded_model.evaluate(test_data, test_labels)"
      ]
    }
  ],
  "metadata": {
    "colab": {
      "provenance": []
    },
    "kernelspec": {
      "display_name": "Python 3",
      "name": "python3"
    },
    "language_info": {
      "name": "python"
    }
  },
  "nbformat": 4,
  "nbformat_minor": 0
}
